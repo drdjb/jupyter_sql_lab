{
 "cells": [
  {
   "cell_type": "markdown",
   "metadata": {},
   "source": [
    "<img src=\"/static/base/images/logo.png?v=641991992878ee24c6f3826e81054a0f\" alt=\"Jupyter Notebook\">\n",
    "<h1 style=\"text-align: center\">Notebook 8 - SQL Lab</h1>"
   ]
  },
  {
   "cell_type": "markdown",
   "metadata": {},
   "source": [
    "<h3>Prerequisites</h3>\n",
    "\n",
    "- You must have Python 3 installed on your system (<a href=\"https://www.python.org/downloads/\">Download</a>)\n",
    "- You must have Jupyter installed on your system (<a href=\"https://jupyter.org/install\">Download</a>)\n",
    "- Some knowledge of Python, HTML, CSS, Javascript and SQL may be required"
   ]
  },
  {
   "cell_type": "markdown",
   "metadata": {},
   "source": [
    "<h3>Explanation of Notebook 8</h3>\n",
    "\n",
    "This notebook will involve applying knowledge gained from the previous SQL labs by making a web application that contains a database using Flask and SQLite.\n",
    "\n",
    "+ SQLite3 is a module included in Python (2.5+), SQLite is an embedded relational database engine, and this module is used to create a database that's stored in a single disk file, meaning that you do not have to create a server to access it.<br>\n",
    "+ Flask on the other hand is a framework that allows you to work with SQLite3 module to make a CRUD (create, retrieve, update, delete) application."
   ]
  },
  {
   "cell_type": "markdown",
   "metadata": {},
   "source": [
    "<h3>Getting started</h3>\n",
    "\n",
    "As mentioned above, \"SQLite3\" will be preinstalled with Python (2.5+), however, you'll need to install \"Flask\" and \"reqests\" manually. <br>\n",
    "You can do this using pip in Command Prompt (Windows), or the Terminal (MacOS/Linux):<br>\n",
    "<code>pip install Flask</code><br>\n",
    "<code>pip install requests</code>\n",
    "\n",
    "Otherwise, run the cells below."
   ]
  },
  {
   "cell_type": "code",
   "execution_count": null,
   "metadata": {},
   "outputs": [],
   "source": [
    "pip install Flask"
   ]
  },
  {
   "cell_type": "code",
   "execution_count": null,
   "metadata": {},
   "outputs": [],
   "source": [
    "pip install requests"
   ]
  },
  {
   "cell_type": "markdown",
   "metadata": {},
   "source": [
    "After doing so, you may proceed with the notebook."
   ]
  },
  {
   "cell_type": "markdown",
   "metadata": {},
   "source": [
    "<h3>Scenario</h3>\n",
    "\n",
    "You are a software developer and was given the task to build a stock control system for a store that will involve customers that can create orders by selecting items, and this will involve creating four tables:\n",
    "\n",
    "- Customer table\n",
    "\n",
    "<code>Customer_ID</code><br>\n",
    "<code>Customer_Name</code><br>\n",
    "\n",
    "- Order table\n",
    "\n",
    "<code>Order_ID</code><br>\n",
    "<code>Customer_ID</code><br>\n",
    "<code>Order_Date</code><br>\n",
    "<code>Total</code><br>\n",
    "\n",
    "- Suborder table\n",
    "\n",
    "<code>Suborder_ID</code><br>\n",
    "<code>Order_ID</code><br>\n",
    "<code>Product_ID</code><br>\n",
    "<code>Quantity</code><br>\n",
    "<code>Subtotal</code><br>\n",
    "\n",
    "- Product table\n",
    "\n",
    "<code>Product_ID</code><br>\n",
    "<code>Product_Name</code><br>\n",
    "<code>Product_Description</code><br>\n",
    "<code>Price</code><br>\n",
    "\n",
    "These tables communicate with each other using primary and foreign keys, add the tag \"(PK)\" for primary keys and \"(FK)\" for foreign keys in each tables.\n",
    "\n",
    "<b>Double click for the solution</b>\n",
    "\n",
    "<!--\n",
    "- Customer table\n",
    "\n",
    "<code>Customer_ID (PK)</code><br>\n",
    "<code>Customer_Name</code><br>\n",
    "\n",
    "- Order table\n",
    "\n",
    "<code>Order_ID (PK)</code><br>\n",
    "<code>Customer_ID (FK)</code><br>\n",
    "<code>Order_Date</code><br>\n",
    "<code>Total</code><br>\n",
    "\n",
    "- Suborder table\n",
    "\n",
    "<code>Suborder_ID (PK)</code><br>\n",
    "<code>Order_ID (FK)</code><br>\n",
    "<code>Product_ID (FK)</code><br>\n",
    "<code>Quantity</code><br>\n",
    "<code>Subtotal</code><br>\n",
    "\n",
    "- Product table\n",
    "\n",
    "<code>Product_ID (PK)</code><br>\n",
    "<code>Product_Name</code><br>\n",
    "<code>Product_Description</code><br>\n",
    "<code>Price</code><br>\n",
    "-->\n",
    "\n",
    "It is important to know that primary keys are uniquely identified with integers which autoincrement upon new rows, so be sure to choose the correct data types when creating the table."
   ]
  },
  {
   "cell_type": "markdown",
   "metadata": {},
   "source": [
    "<h3>Identifying relationships</h3>\n",
    "\n",
    "As forementioned, these tables will need to communicate each other using their keys, and so after you've chosen the keys, what will their relationship types be?\n",
    "\n",
    "<h4>Relationship types</h4>\n",
    "\n",
    "Remember, these tables considered as \"entities\", ande there are three types of relationships:\n",
    "+ A one-to-one relationship is when an entity can only have one instance of another, like e.g one person entity can only have one car entity\n",
    "+ A one-to-many would mean one person entity can have many car entities,\n",
    "+ If it's many-to-many (uncommon), it means many person entities can have many car entities but that isn't practical in most cases so a third entity is required where in this case we could say the third entity is the car and a new supplier entity is added where both the person and the supplier has a one-to-many relationship with the car entity meaning a supplier can have many cars and the person can have many cars. \n",
    "\n",
    "In our case, a customer can have many orders (although many orders must only have one customer), an order can have many sub orders (but a sub order can only have one order), a sub order must only have one product (yet a product can have many suborders).\n",
    "\n",
    "<h4>Relationship degree</h4>\n",
    "\n",
    "There's also the relationship degree, which is the number of participating entities in a relationship:\n",
    "- Binary - Two entities involved\n",
    "- Ternary - Three entities involved\n",
    "- Quarternary - Four entities involved\n",
    "- N-ary - More than four entities involved\n",
    "\n",
    "Customer table (Binary):\n",
    "- Customer_ID to Customer_ID (Order table)\n",
    "\n",
    "Order table (Ternary):\n",
    "- Customer_ID to Customer_ID (Customer table)\n",
    "- Order_ID to Order_ID (Orderline table)\n",
    "\n",
    "Suborder table (Tenary):\n",
    "- Order_ID to Order_ID (Orderline table)\n",
    "- Product_ID to Product_ID (Orderline table)\n",
    "\n",
    "Producer table (Binary):\n",
    "- Product_ID to Product_ID (Suborder table)"
   ]
  },
  {
   "cell_type": "markdown",
   "metadata": {},
   "source": [
    "<h3>Creating the database</h3>"
   ]
  },
  {
   "cell_type": "code",
   "execution_count": null,
   "metadata": {},
   "outputs": [],
   "source": [
    "import sqlite3\n",
    "\n",
    "DB = sqlite3.connect(\"data/database.db\")\n",
    "c = DB.cursor()"
   ]
  },
  {
   "cell_type": "markdown",
   "metadata": {},
   "source": [
    "The above code will create the file \"database.db\" (if it doesn't exist) in the folder \"data\" with the cursor to fetch results from it when executing SQL statements.\n",
    "\n",
    "This database is needed to create the tables."
   ]
  },
  {
   "cell_type": "markdown",
   "metadata": {},
   "source": [
    "<h3>Creating the tables</h3>\n",
    "\n",
    "Using the cursor on the database created above, we can now use it to create the new tables in that database, check the cell below."
   ]
  },
  {
   "cell_type": "code",
   "execution_count": null,
   "metadata": {},
   "outputs": [],
   "source": [
    "def create_table():\n",
    "    c.execute(\"CREATE TABLE IF NOT EXISTS CustomerTB(Customer_ID INTEGER PRIMARY KEY AUTOINCREMENT, Customer_Name TEXT)\")\n",
    "    print(\"Customer table created\") #To ensure it worked\n",
    "    c.execute(\"CREATE TABLE IF NOT EXISTS OrderTBLE(Order_ID INTEGER PRIMARY KEY AUTOINCREMENT, Customer_ID INTEGER, Order_Date TEXT, Total REAL, FOREIGN KEY(Customer_ID) REFERENCES CustomerTB(Customer_ID))\")\n",
    "    print(\"Order table created\") #To ensure it worked\n",
    "    cur.execute(\"PRAGMA foreign_keys = ON\") #Enable foreign keys\n",
    "    c.close()"
   ]
  },
  {
   "cell_type": "markdown",
   "metadata": {},
   "source": [
    "You can see that the cell above creates two tables, customer table and the order table. In these two tables, there's a primary key in both of them, the way the foreign key from the customer table to the order table is used is by creating the column first and then referencing the key using the table for it.\n",
    "\n",
    "Also, notice how the last line mentions enabling foreign keys, this needs to be done every time you connect to the database to enable foreign keys, this will allow validity when managing products/customers/orders.\n",
    "\n",
    "Note: The order table uses a different naming convention due to it having issues later on at the time of making this notebook.\n",
    "\n",
    "In the same function, how would you create the other 2 tables for the product and the suborder?<br>\n",
    "Remember, references to other tables must be at the very end of a statement or it'll result in errors.\n",
    "\n",
    "<b>You must complete this step before moving to the next</b>"
   ]
  },
  {
   "cell_type": "code",
   "execution_count": null,
   "metadata": {},
   "outputs": [],
   "source": []
  },
  {
   "cell_type": "markdown",
   "metadata": {},
   "source": [
    "<b>Double click for the solution</b>\n",
    "<!--\n",
    "def create_table():\n",
    "    c.execute(\"CREATE TABLE IF NOT EXISTS CustomerTB(Customer_ID INTEGER PRIMARY KEY AUTOINCREMENT, Customer_Name TEXT)\")\n",
    "    print(\"Customer table created\") #To ensure it worked\n",
    "    c.execute(\"CREATE TABLE IF NOT EXISTS OrderTBLE(Order_ID INTEGER PRIMARY KEY AUTOINCREMENT, Customer_ID INTEGER, Order_Date TEXT, Total REAL, FOREIGN KEY(Customer_ID) REFERENCES CustomerTB(Customer_ID))\")\n",
    "    print(\"Order table created\") #To ensure it worked\n",
    "    c.execute(\"CREATE TABLE IF NOT EXISTS ProductTB(Product_ID INTEGER PRIMARY KEY AUTOINCREMENT, Product_Name TEXT, Product_Description TEXT, Price REAL)\")\n",
    "    print(\"Product table created\") #To ensure it worked\n",
    "    c.execute(\"CREATE TABLE IF NOT EXISTS SuborderTB(Suborder_ID INTEGER PRIMARY KEY AUTOINCREMENT, Order_ID INTEGER, Product_ID INTEGER, Quantity INTEGER, Subtotal REAL, FOREIGN KEY(Order_ID) REFERENCES OrderTBLE(Order_ID), FOREIGN KEY(Product_ID) REFERENCES ProductTB(Product_ID))\")\n",
    "    print(\"Suborder table created\") #To ensure it worked\n",
    "    c.execute(\"PRAGMA foreign_keys = ON\") #Enable foreign keys\n",
    "    c.close()\n",
    "-->"
   ]
  },
  {
   "cell_type": "markdown",
   "metadata": {},
   "source": [
    "<h3>Implementing the tables and queries in Flask</h3>\n",
    "\n",
    "Now that you have the database and its tables setup, you need to set the Flask routes so that you can execute the SQL queries."
   ]
  },
  {
   "cell_type": "code",
   "execution_count": null,
   "metadata": {},
   "outputs": [],
   "source": [
    "from flask import *  \n",
    "\n",
    "app = Flask(__name__) #Create Flask application\n",
    "\n",
    "#When in root directory\n",
    "@app.route(\"/\")\n",
    "def index():\n",
    "    return render_template(\"index.html\")  #Go to index.html"
   ]
  },
  {
   "cell_type": "markdown",
   "metadata": {},
   "source": [
    "This cell will create a route for the root directory, which when visited it will redirect you to \"index.html\", which must be stored in the 'templates' folder, and this way this file looks is shown below."
   ]
  },
  {
   "cell_type": "raw",
   "metadata": {},
   "source": [
    "<!DOCTYPE html>  \n",
    "<html>  \n",
    "<head>  \n",
    "    <title>Home</title>  \n",
    "</head>  \n",
    "<body>  \n",
    "    <h2>SQLite3-Flask stock control database</h2>  \n",
    "    <a href=\"/stocks\">Manage products</a><br><br>  \n",
    "    <a href=\"/forcustomers\">For customers</a><br><br>  \n",
    "</body>  \n",
    "</html>  "
   ]
  },
  {
   "cell_type": "markdown",
   "metadata": {},
   "source": [
    "You can see that it includes a link to add items and for the customers, the \"/stocks\" route will redirect you to a page where you can add/view/update/delete any items you added that the customers can purchase. Whereas the '/forcustomers' route redirects you to a page where you an add new customers and use them to make the orders.\n",
    "\n",
    "The routes for managing the products and controlling the customers are shown below."
   ]
  },
  {
   "cell_type": "code",
   "execution_count": null,
   "metadata": {},
   "outputs": [],
   "source": [
    "#When in '/stocks' directory\n",
    "@app.route(\"/stocks\")\n",
    "def stocks():\n",
    "    con = sqlite3.connect(\"data/database.db\") #Connect to database\n",
    "    con.row_factory = sqlite3.Row #Converts the plain tuple to a more useful object\n",
    "    cur = con.cursor()  \n",
    "    cur.execute(\"select * from ProductTB\") #Select everything in the table\n",
    "    rows = cur.fetchall() #Get all the rows\n",
    "    \n",
    "    return render_template(\"stocks.html\", msg = \"\", rows = rows)  #Go to stocks.html with the rows\n",
    "\n",
    "#When in '/forcustomers' directory\n",
    "@app.route(\"/forcustomers\")\n",
    "def forcustomers():\n",
    "    return render_template(\"forcustomers.html\")  #Go to forcustomers.html"
   ]
  },
  {
   "cell_type": "markdown",
   "metadata": {},
   "source": [
    "As you can see, for the stocks route it connects to the database to refresh the rows and gather all of those rows to be displayed onto the \"stocks.html\" page, this is so that you can look at the list of products while you are updating them.\n",
    "\n",
    "On the customers route however, it simply just goes to the \"forcustomers.html\" page where you can select to either manage the customers or order something."
   ]
  },
  {
   "cell_type": "markdown",
   "metadata": {},
   "source": [
    "<h3>Controlling stocks</h3>\n",
    "\n",
    "Now when the two links are clicked, their respective pages are loaded, the cell below shows what the \"stocks.html\" file looks like."
   ]
  },
  {
   "cell_type": "raw",
   "metadata": {},
   "source": [
    "<!DOCTYPE html>  \n",
    "<html>  \n",
    "    <head>  \n",
    "        <title>Manage products</title>  \n",
    "    </head>  \n",
    "    <body>  \n",
    "        <h2>Add/view/update/delete products</h2>   \n",
    "        <form action=\"/addProduct\" method=\"post\" style=\"display: inline-block;\">  \n",
    "            <table>  \n",
    "              <thead><b>Add a product</b></thead>\n",
    "                <tr><td>Product_Name</td><td><input type=\"text\" name=\"pname\"></td></tr>  \n",
    "                <tr><td>Product_Description</td><td><input type=\"text\" name=\"pdesc\"></td></tr>  \n",
    "                <tr><td>Price</td><td><input type=\"number\" step=\"any\" name=\"pprice\"></td></tr>  \n",
    "                <tr><td><input type=\"submit\" value=\"Add\"></td></tr>  \n",
    "            </table>  \n",
    "        </form>  \n",
    "        <form action=\"/updateProduct\" method=\"post\" style=\"display: inline-block;\">  \n",
    "    \t\t<table> \n",
    "                <thead><b>Update a product</b></thead>\n",
    "                <tr><td>Product_ID<td><input type=\"number\" name=\"pid\" value='{{ pid }}'></td></tr> \n",
    "                <tr><td>Product_Name</td><td><input type=\"text\" name=\"pname2\" value='{{ pname2 }}'></td></tr>  \n",
    "                <tr><td>Product_Description</td><td><input type=\"text\" name=\"pdesc2\" value='{{ pdesc2 }}'></td></tr>  \n",
    "                <tr><td>Price</td><td><input type=\"number\" step=\"any\" name=\"pprice2\" value='{{ pprice2 }}'></td></tr>  \n",
    "                <tr><td><input type=\"submit\" name=\"submit\" value=\"Get details\"></td></tr>\n",
    "                <tr><td><input type=\"submit\" name=\"submit\" value=\"Update\"></td></tr>\n",
    "        \t</table>  \n",
    "\t\t</form>\n",
    "        <form action=\"/deleteProduct\" method=\"post\" style=\"display: inline-block;\">  \n",
    "        \t<table>   \n",
    "                <thead><b>Delete a product</b></thead>\n",
    "                <tr><td>Product_ID<td><input type=\"number\" name=\"pid2\"></td></tr> \n",
    "          \t\t<tr><td><input type=\"submit\" name=\"submit\" value=\"Delete\"></td></tr>\n",
    "        \t</table>\n",
    "    \t</form>\n",
    "      \n",
    "      <br>\n",
    "      <h3>{{msg}}</h3> \n",
    "      <a href=\"/\">Index</a>\n",
    "        \n",
    "      <table border=5>  \n",
    "          <thead>  \n",
    "              <td>Product_ID</td>  \n",
    "              <td>Product_Name</td>  \n",
    "              <td>Product_Description</td>\n",
    "              <td>Price</td>\n",
    "          </thead>  \n",
    "\n",
    "          {% for row in rows %}  \n",
    "\n",
    "              <tr>  \n",
    "                  <td>{{row[\"Product_ID\"]}}</td>  \n",
    "                  <td>{{row[\"Product_Name\"]}}</td>  \n",
    "                  <td>{{row[\"Product_Description\"]}}</td>\n",
    "                  <td>{{row[\"Price\"]}}</td>  \n",
    "              </tr>  \n",
    "\n",
    "          {% endfor %}  \n",
    "      </table> \n",
    "    </body>\n",
    "</html>"
   ]
  },
  {
   "cell_type": "markdown",
   "metadata": {},
   "source": [
    "You can see that there are three forms in this file, one for adding products, another for updating products and finally for deleting products. At the very end, you also have a table showing all the rows of the products, this is so that it makes it easier for the user so that they wouldn't have to manually check the table when being updated as it is done after each action."
   ]
  },
  {
   "cell_type": "markdown",
   "metadata": {},
   "source": [
    "<h4>Adding a product</h4>\n",
    "\n",
    "The cell below shows the route for adding a product."
   ]
  },
  {
   "cell_type": "code",
   "execution_count": null,
   "metadata": {},
   "outputs": [],
   "source": [
    "#When in '/addProduct' directory\n",
    "@app.route(\"/addProduct\", methods = [\"POST\"])\n",
    "def saveP():\n",
    "    con = sqlite3.connect(\"data/database.db\") #Connect to database\n",
    "    con.row_factory = sqlite3.Row #Converts the plain tuple to a more useful object\n",
    "    cur = con.cursor()\n",
    "    cur.execute(\"PRAGMA foreign_keys = ON\") #Enable foreign keys\n",
    "    msg = \"msg\"\n",
    "    if (request.method == \"POST\"): #If the user submits data\n",
    "        try:  \n",
    "            pname = request.form[\"pname\"]  #Get product name\n",
    "            pdesc = request.form[\"pdesc\"]  #Get product description\n",
    "            pprice = request.form[\"pprice\"]  #Get product price\n",
    "\n",
    "            cur.execute(\"INSERT into ProductTB (Product_Name, Product_Description, Price) values (?,?,?)\",(pname, pdesc, pprice)) #Add the user's data  \n",
    "            con.commit()  \n",
    "            msg = \"Product successfully added\"\n",
    "        except:\n",
    "            con.rollback()\n",
    "            msg = \"Please check the details again.\"  \n",
    "        finally:  \n",
    "            #Update the rows\n",
    "            cur.execute(\"select * from ProductTB\") #Select everything in the table\n",
    "            newRows = cur.fetchall() #Get all the rows\n",
    "            \n",
    "            return render_template(\"stocks.html\",msg = msg, rows = newRows)  #Go to stocks.html page with the message and the rows\n",
    "            con.close()"
   ]
  },
  {
   "cell_type": "markdown",
   "metadata": {},
   "source": [
    "It first gets the user's submitted data and gets the entered product name, description and price from that data and then submits it onto the product table where it then refreshes the page with the new row, this refresh also happens if insertion is unsuccessful."
   ]
  },
  {
   "cell_type": "markdown",
   "metadata": {},
   "source": [
    "<h4>Updating a product</h4>\n",
    "\n",
    "A similar process is done when updating a product, which is shown below."
   ]
  },
  {
   "cell_type": "code",
   "execution_count": null,
   "metadata": {},
   "outputs": [],
   "source": [
    "#When in '/updateProduct' directory\n",
    "@app.route(\"/updateProduct\", methods = [\"POST\"])  \n",
    "def updateP():  \n",
    "    con = sqlite3.connect(\"data/database.db\") #Connect to database\n",
    "    con.row_factory = sqlite3.Row #Converts the plain tuple to a more useful object\n",
    "    cur = con.cursor()  \n",
    "    cur.execute(\"PRAGMA foreign_keys = ON\") #Enable foreign keys\n",
    "    pid = request.form[\"pid\"] #Gets the entered product ID\n",
    "    \n",
    "    newRows = [0, 0, 0, 0] #Default row values\n",
    "    msg = \"msg\"\n",
    "    \n",
    "    if (request.form['submit'] == \"Get details\"): #If \"Get details\" button is pressed\n",
    "        try:  \n",
    "            cur.execute(\"select * from ProductTB where Product_ID = ?\", (pid,)) #Select all the values in the table with the rows with the id\n",
    "            rows = cur.fetchall() #Get all rows (Will only return 1)\n",
    "            currRow = rows[0] #Get first row\n",
    "        \n",
    "            msg = \"\"\n",
    "        except:\n",
    "            con.rollback()\n",
    "            msg = \"Please check the details again.\" \n",
    "        finally:  \n",
    "            #Update the rows\n",
    "            cur.execute(\"select * from ProductTB\") #Select everything in the table\n",
    "            newRows = cur.fetchall() #Get all the rows\n",
    "            \n",
    "            #Pass all the column values\n",
    "            return render_template(\"stocks.html\", pid = pid, pname2 = currRow[\"Product_Name\"], pdesc2 = currRow[\"Product_Description\"], pprice2 = currRow[\"Price\"], rows = newRows)       \n",
    "            con.close()\n",
    "    else: #If \"Update\" button is pressed\n",
    "        try:         \n",
    "            pname = request.form[\"pname2\"] #Get entered product name\n",
    "            pdesc = request.form[\"pdesc2\"] #Get entered product description\n",
    "            pprice = request.form[\"pprice2\"] #Get entered product price\n",
    "\n",
    "            cur.execute(\"update ProductTB set Product_Name=?, Product_Description=?, Price=? where Product_ID = ?\", (pname, pdesc, pprice, pid)) #Update the values in the tables\n",
    "            con.commit()\n",
    "            msg = \"Product successfully updated\"\n",
    "        except:\n",
    "            con.rollback()\n",
    "            msg = \"Please check the details again.\" \n",
    "        finally:\n",
    "            #Update the rows\n",
    "            cur.execute(\"select * from ProductTB\") #Select everything in the table\n",
    "            newRows = cur.fetchall() #Get all the rows\n",
    "            \n",
    "            return render_template(\"stocks.html\", rows = newRows, msg = msg)  #Go to stocks.html with the rows\n",
    "            con.close()"
   ]
  },
  {
   "cell_type": "markdown",
   "metadata": {},
   "source": [
    "This time, it checks whether the user wanted to get the details of a product or update a product, if the user just wants to get the details it simply grabs the entered product ID which is used to get the row containing that specific ID, which is then passed back onto the \"stocks.html\" page onto the form's fields, where if a user changes one of those fields and presses \"Update\" instead, it gets those fields again assumingly that they are updated which gets set into the specified row using the entered ID once again."
   ]
  },
  {
   "cell_type": "markdown",
   "metadata": {},
   "source": [
    "<h4>Deleting a product</h4>\n",
    "\n",
    "Deleting a product on the other hand is much simpler and it is shown below."
   ]
  },
  {
   "cell_type": "code",
   "execution_count": null,
   "metadata": {},
   "outputs": [],
   "source": [
    "#When in '/deleteProduct' directory\n",
    "@app.route(\"/deleteProduct\", methods = [\"POST\"])   \n",
    "def deleteP():\n",
    "    con = sqlite3.connect(\"data/database.db\") #Connect to database\n",
    "    con.row_factory = sqlite3.Row #Converts the plain tuple to a more useful object\n",
    "    cur = con.cursor() \n",
    "    cur.execute(\"PRAGMA foreign_keys = ON\") #Enable foreign keys\n",
    "    msg = \"msg\"\n",
    "    pid = request.form[\"pid2\"] #Get the entered product ID\n",
    "    try:   \n",
    "        cur.execute(\"delete from ProductTB where Product_ID = ?\", (pid,)) #Delete the rows containing the id \n",
    "        con.commit()\n",
    "        msg = \"Product successfully deleted\"  \n",
    "    except:  \n",
    "        con.rollback() \n",
    "        msg = \"Product can't be deleted\"\n",
    "    finally:  \n",
    "        #Update the rows\n",
    "        cur.execute(\"select * from ProductTB\") #Select everything in the table\n",
    "        newRows = cur.fetchall() #Get all the rows\n",
    "\n",
    "        return render_template(\"stocks.html\",msg = msg, rows = newRows) #Go to stocks.html page with the message and the rows\n",
    "        con.close()"
   ]
  },
  {
   "cell_type": "markdown",
   "metadata": {},
   "source": [
    "You can see that after it connects to the database, it gets the data the user has entered, the user will only have one field which is the product ID, and that ID gets passed down here and executes an SQL statement that deletes any row that contains that ID, and then it finally refreshes the list of products as it returns to the \"stocks.html\" page."
   ]
  },
  {
   "cell_type": "markdown",
   "metadata": {},
   "source": [
    "<h3>Managing customers</h3>\n",
    "\n",
    "As previously mentioned, when going into the customers page, it should allow you to either manage the customers or make orders, the file \"forcustomers.html\" is shown below."
   ]
  },
  {
   "cell_type": "raw",
   "metadata": {},
   "source": [
    "<!DOCTYPE html>  \n",
    "<html>  \n",
    "<head>  \n",
    "    <title>Home</title>  \n",
    "</head>  \n",
    "<body>  \n",
    "    <h2>For customers</h2>  \n",
    "    <a href=\"/customers\">Manage customers</a><br><br>  \n",
    "    <a href=\"/order\">Order a product</a><br><br>  \n",
    "</body>  \n",
    "</html>  "
   ]
  },
  {
   "cell_type": "markdown",
   "metadata": {},
   "source": [
    "You can see that there's two links, meaning that there needs to be two new routes, and the route for managing customers is  shown below."
   ]
  },
  {
   "cell_type": "code",
   "execution_count": null,
   "metadata": {},
   "outputs": [],
   "source": [
    "#When in '/customers' directory\n",
    "@app.route(\"/customers\")\n",
    "def customers():\n",
    "    con = sqlite3.connect(\"data/database.db\") #Connect to database\n",
    "    con.row_factory = sqlite3.Row #Converts the plain tuple to a more useful object\n",
    "    cur = con.cursor()  \n",
    "    cur.execute(\"PRAGMA foreign_keys = ON\") #Enable foreign keys\n",
    "    cur.execute(\"select * from CustomerTB\") #Select everything in the table\n",
    "    rows = cur.fetchall() #Get all the rows\n",
    "    \n",
    "    return render_template(\"customers.html\", msg = \"\", rows = rows)  #Go to customer.html with the rows"
   ]
  },
  {
   "cell_type": "markdown",
   "metadata": {},
   "source": [
    "Like previously, visiting the customer page loads the customer table by getting all their rows, it then goes to their pages where it displays those tables row by row.\n",
    "\n",
    "The page, \"customers.html\" for managing the customers, is shown below."
   ]
  },
  {
   "cell_type": "raw",
   "metadata": {},
   "source": [
    "<!DOCTYPE html>  \n",
    "<html>  \n",
    "    <head>  \n",
    "        <title>Manage customers</title>  \n",
    "    </head>  \n",
    "    <body>  \n",
    "        <h2>Add/view/update/delete customers</h2>   \n",
    "        <form action=\"/addCustomer\" method=\"post\" style=\"display: inline-block;\">  \n",
    "            <table>  \n",
    "              <thead><b>Add a customer</b></thead>\n",
    "                <tr><td>Customer_Name</td><td><input type=\"text\" name=\"cname\"></td></tr>  \n",
    "                <tr><td><input type=\"submit\" value=\"Add\"></td></tr>  \n",
    "            </table>  \n",
    "        </form>  \n",
    "        <form action=\"/updateCustomer\" method=\"post\" style=\"display: inline-block;\">  \n",
    "    \t\t<table> \n",
    "                <thead><b>Update a customer</b></thead>\n",
    "                <tr><td>Customer_ID<td><input type=\"number\" name=\"cid\" value='{{ cid }}'></td></tr> \n",
    "                <tr><td>Customer_Name</td><td><input type=\"text\" name=\"cname2\" value='{{ cname2 }}'></td></tr>  \n",
    "                <tr><td><input type=\"submit\" name=\"submit\" value=\"Get details\"></td></tr>\n",
    "                <tr><td><input type=\"submit\" name=\"submit\" value=\"Update\"></td></tr>\n",
    "        \t</table>  \n",
    "\t\t</form>\n",
    "        <form action=\"/deleteCustomer\" method=\"post\" style=\"display: inline-block;\">  \n",
    "        \t<table>   \n",
    "                <thead><b>Delete a customer</b></thead>\n",
    "                <tr><td>Customer_ID<td><input type=\"number\" name=\"cid2\"></td></tr> \n",
    "          \t\t<tr><td><input type=\"submit\" name=\"submit\" value=\"Delete\"></td></tr>\n",
    "        \t</table>\n",
    "    \t</form>\n",
    "      \n",
    "      <br>\n",
    "      <h3>{{msg}}</h3> \n",
    "      <a href=\"/\">Index</a>\n",
    "        \n",
    "      <table border=5>  \n",
    "          <thead>  \n",
    "              <td>Customer_ID</td>  \n",
    "              <td>Customer_Name</td>  \n",
    "          </thead>  \n",
    "\n",
    "          {% for row in rows %}  \n",
    "\n",
    "              <tr>  \n",
    "                  <td>{{row[\"Customer_ID\"]}}</td>  \n",
    "                  <td>{{row[\"Customer_Name\"]}}</td>    \n",
    "              </tr>  \n",
    "\n",
    "          {% endfor %}  \n",
    "      </table> \n",
    "    </body>\n",
    "</html>"
   ]
  },
  {
   "cell_type": "markdown",
   "metadata": {},
   "source": [
    "The variables that gets passed onto the file are indicated by curly brackets, an example of this is the line containing \"{{msg}}\", this stores the result of each action to indicate whether it was successful or not."
   ]
  },
  {
   "cell_type": "markdown",
   "metadata": {},
   "source": [
    "<h4>Adding a customer</h4>\n",
    "\n",
    "One of the actions is adding a customer, you can see that upon submitting the form for adding a customer it goes to the route \"/addCustomer\", that directs the user to the following route."
   ]
  },
  {
   "cell_type": "code",
   "execution_count": null,
   "metadata": {},
   "outputs": [],
   "source": [
    "#When in '/addCustomer' directory\n",
    "@app.route(\"/addCustomer\", methods = [\"POST\"])\n",
    "def saveC():\n",
    "    con = sqlite3.connect(\"data/database.db\") #Connect to database\n",
    "    con.row_factory = sqlite3.Row #Converts the plain tuple to a more useful object\n",
    "    cur = con.cursor()\n",
    "    cur.execute(\"PRAGMA foreign_keys = ON\") #Enable foreign keys\n",
    "    msg = \"msg\"\n",
    "    if (request.method == \"POST\"): #If the user submits data\n",
    "        try:  \n",
    "            cname = request.form[\"cname\"]  #Get entered customer name\n",
    "\n",
    "            cur.execute(\"INSERT into CustomerTB (Customer_Name) values (?)\", (cname,)) #Add the user's data  \n",
    "            con.commit()  \n",
    "            msg = \"Customer successfully added\"\n",
    "        except:\n",
    "            con.rollback()\n",
    "            msg = \"Please check the details again.\"  \n",
    "        finally:  \n",
    "            #Update the rows\n",
    "            cur.execute(\"select * from CustomerTB\") #Select everything in the table\n",
    "            newRows = cur.fetchall() #Get all the rows\n",
    "            \n",
    "            return render_template(\"customers.html\",msg = msg, rows = newRows)  #Go to customers.html page with the message and the rows\n",
    "            con.close()"
   ]
  },
  {
   "cell_type": "markdown",
   "metadata": {},
   "source": [
    "You can see that it gets the user's data which is used to get the inputted the customer name, this is then used to create a new row in the customer table and it returns the new set of rows back into the \"customers.html\" page."
   ]
  },
  {
   "cell_type": "markdown",
   "metadata": {},
   "source": [
    "<h4>Updating a customer</h4>\n",
    "\n",
    "There's another form for updating the customers, that route is shown below."
   ]
  },
  {
   "cell_type": "code",
   "execution_count": null,
   "metadata": {},
   "outputs": [],
   "source": [
    "#When in '/updateCustomer' directory\n",
    "@app.route(\"/updateCustomer\", methods = [\"POST\"])  \n",
    "def updateC():  \n",
    "    con = sqlite3.connect(\"data/database.db\") #Connect to database\n",
    "    con.row_factory = sqlite3.Row #Converts the plain tuple to a more useful object\n",
    "    cur = con.cursor()  \n",
    "    cur.execute(\"PRAGMA foreign_keys = ON\") #Enable foreign keys    \n",
    "    cid = request.form[\"cid\"] #Get entered customer ID\n",
    "    \n",
    "    newRows = [0, 0, 0, 0] #Default row values\n",
    "    msg = \"msg\"\n",
    "    \n",
    "    if (request.form['submit'] == \"Get details\"): #If \"Get details\" button is pressed\n",
    "        try:  \n",
    "            cur.execute(\"select * from CustomerTB where Customer_ID = ?\", (cid,)) #Select all the values in the table with the rows with the id\n",
    "            rows = cur.fetchall() #Get all rows (Will only return 1)\n",
    "            currRow = rows[0] #Get first row\n",
    "        \n",
    "            msg = \"\"\n",
    "        except:\n",
    "            con.rollback()\n",
    "            msg = \"Please check the details again.\" \n",
    "        finally:  \n",
    "            #Update the rows\n",
    "            cur.execute(\"select * from CustomerTB\") #Select everything in the table\n",
    "            newRows = cur.fetchall() #Get all the rows\n",
    "            \n",
    "            #Pass all the column values\n",
    "            return render_template(\"customers.html\", cid = cid, cname2 = currRow[\"Customer_Name\"], rows = newRows)       \n",
    "            con.close()\n",
    "    else: #If \"Update\" button is pressed\n",
    "        try:         \n",
    "            cname = request.form[\"cname2\"] #Get entered customer name\n",
    "\n",
    "            cur.execute(\"update CustomerTB set Customer_Name=? where Customer_ID = ?\", (cname, cid)) #Update the values in the tables\n",
    "            con.commit() \n",
    "            msg = \"Customer successfully updated\"\n",
    "        except:\n",
    "            con.rollback()\n",
    "            msg = \"Please check the details again.\" \n",
    "        finally:\n",
    "            #Update the rows\n",
    "            cur.execute(\"select * from CustomerTB\") #Select everything in the table\n",
    "            newRows = cur.fetchall() #Get all the rows\n",
    "            \n",
    "            return render_template(\"customers.html\", rows = newRows, msg = msg)  #Go to stocks.html with the rows\n",
    "            con.close()"
   ]
  },
  {
   "cell_type": "markdown",
   "metadata": {},
   "source": [
    "After it connects to the database, it gets the user's inputted customer ID, which is used to return the customer row containing that ID onto the same page when the user wants to retrieve that customer's details. If the user updates that row containing that customer ID, it grabs the entered input for the new name of that customer and sets it after retrieving it from the table using the entered ID, and then at the end it'll display the new rows with the updated details."
   ]
  },
  {
   "cell_type": "markdown",
   "metadata": {},
   "source": [
    "<h4>Deleting a customer</h4>\n",
    "\n",
    "To delete a customer, the process is similar but much simpler, it is shown below."
   ]
  },
  {
   "cell_type": "code",
   "execution_count": null,
   "metadata": {},
   "outputs": [],
   "source": [
    "#When in '/deleteCustomer' directory\n",
    "@app.route(\"/deleteCustomer\", methods = [\"POST\"])   \n",
    "def deleteC():\n",
    "    con = sqlite3.connect(\"data/database.db\") #Connect to database\n",
    "    con.row_factory = sqlite3.Row #Converts the plain tuple to a more useful object\n",
    "    cur = con.cursor() \n",
    "    cur.execute(\"PRAGMA foreign_keys = ON\") #Enable foreign keys\n",
    "    msg = \"msg\"\n",
    "    cid = request.form[\"cid2\"] #Get entered customer ID\n",
    "    try:   \n",
    "        cur.execute(\"delete from CustomerTB where Customer_ID = ?\", (cid,)) #Delete the rows containing the id  \n",
    "        con.commit() \n",
    "        msg = \"Customer successfully deleted\"  \n",
    "    except:  \n",
    "        con.rollback() \n",
    "        msg = \"Customer can't be deleted\"\n",
    "    finally:  \n",
    "        #Update the rows\n",
    "        cur.execute(\"select * from CustomerTB\") #Select everything in the table\n",
    "        newRows = cur.fetchall() #Get all the rows\n",
    "\n",
    "        return render_template(\"customers.html\",msg = msg, rows = newRows) #Go to stocks.html page with the message and the rows\n",
    "        con.close()"
   ]
  },
  {
   "cell_type": "markdown",
   "metadata": {},
   "source": [
    "This connects to the database and retrieved the row in the customer table containing the customer ID the user entered and deletes it, and then updates the rows and displays it onto the same page."
   ]
  },
  {
   "cell_type": "markdown",
   "metadata": {},
   "source": [
    "<h3>Managing orders</h3>\n",
    "\n",
    "Now that you have made use of both the product table and the customer table, all that's left is making orders by using them, but to do that, we must also make use of the order table and suborder table which have yet to be used, for this we will create the second round which is for orders as shown below."
   ]
  },
  {
   "cell_type": "code",
   "execution_count": null,
   "metadata": {},
   "outputs": [],
   "source": [
    "#When in '/order' directory\n",
    "@app.route(\"/order\")\n",
    "def order():\n",
    "    #Update the rows\n",
    "    con = sqlite3.connect(\"data/database.db\") #Connect to database\n",
    "    con.row_factory = sqlite3.Row #Converts the plain tuple to a more useful object\n",
    "    cur = con.cursor()  \n",
    "    cur.execute(\"PRAGMA foreign_keys = ON\") #Enable foreign keys\n",
    "    cur.execute(\"select * from OrderTBLE\") #Select everything in the table\n",
    "    rows = cur.fetchall() #Get all the rows\n",
    "    cur.execute(\"select * from SuborderTB\") #Select everything in the table\n",
    "    subRows = cur.fetchall() #Get all the rows\n",
    "            \n",
    "    return render_template(\"order.html\", msg = \"\", rows = rows, subrows = subRows)  #Go to order.html with the rows"
   ]
  },
  {
   "cell_type": "markdown",
   "metadata": {},
   "source": [
    "Then, a separate page is also made but it is very similar to creating customers as shown below for the file \"order.html\""
   ]
  },
  {
   "cell_type": "raw",
   "metadata": {},
   "source": [
    "<!DOCTYPE html>  \n",
    "<html>  \n",
    "    <head>  \n",
    "        <title>Manage products</title>  \n",
    "    </head>  \n",
    "    <body>  \n",
    "        <h2>Add/view/update/delete orders</h2>   \n",
    "        <form action=\"/addOrder\" method=\"post\" style=\"display: inline-block;\">  \n",
    "            <table>  \n",
    "              <thead><b>Add an order</b></thead>\n",
    "                <tr><td>Customer_ID</td><td><input type=\"number\" name=\"cid\"></td></tr>  \n",
    "                <tr><td>Order_Date</td><td><input style=\"background-color: gray\"  type=\"text\" name=\"odate\" id=\"date\" readonly></td></tr> \n",
    "                <tr><td><input type=\"submit\" value=\"Add\"></td></tr>  \n",
    "            </table>  \n",
    "        </form>  \n",
    "        <form action=\"/addSuborder\" method=\"post\" style=\"display: inline-block;\">  \n",
    "            <table>  \n",
    "              <thead><b>Add a suborder</b></thead>\n",
    "                <tr><td>Order_ID</td><td><input type=\"number\" name=\"oid\"></td></tr>  \n",
    "                <tr><td>Product_ID</td><td><input type=\"number\" name=\"pid\"></td></tr>  \n",
    "                <tr><td>Quantity</td><td><input type=\"number\" name=\"oquantity\"></td></tr>  \n",
    "                <tr><td><input type=\"submit\" value=\"Add\"></td></tr>  \n",
    "            </table>  \n",
    "        </form> \n",
    "        <form action=\"/updateSuborder\" method=\"post\" style=\"display: inline-block;\">  \n",
    "    \t\t<table> \n",
    "                <thead><b>Update a suborder</b></thead>\n",
    "                <tr><td>Suborder_ID<td><input type=\"number\" name=\"sid\" value='{{ sid }}'></td></tr> \n",
    "                <tr><td>Product_ID</td><td><input type=\"number\" name=\"pid2\" value='{{ pid2 }}'></td></tr>  \n",
    "                <tr><td>Quantity</td><td><input type=\"number\" name=\"oquantity2\" value='{{ oquantity2 }}'></td></tr>  \n",
    "                <tr><td>Subtotal</td><td><input style=\"background-color: gray\"  type=\"number\" step=\"any\" name=\"osubtotal\" value='{{ osubtotal }}' readonly></td></tr>  \n",
    "                <tr><td><input type=\"submit\" name=\"submit\" value=\"Get details\"></td></tr>\n",
    "                <tr><td><input type=\"submit\" name=\"submit\" value=\"Update\"></td></tr>\n",
    "        \t</table>  \n",
    "\t\t</form>\n",
    "        <form action=\"/deleteOrder\" method=\"post\" style=\"display: inline-block;\">  \n",
    "        \t<table>   \n",
    "                <thead><b>Delete an order</b></thead>\n",
    "                <tr><td>Order_ID<td><input type=\"number\" name=\"oid2\"></td></tr> \n",
    "          \t\t<tr><td><input type=\"submit\" name=\"submit\" value=\"Delete\"></td></tr>\n",
    "        \t</table>\n",
    "    \t</form>\n",
    "      \n",
    "      <br>\n",
    "      <h3>{{msg}}</h3> \n",
    "      <a href=\"/\">Index</a>\n",
    "      <br>\n",
    "        \n",
    "      <table border=5>  \n",
    "          <thead><b>Order table</b><br>\n",
    "              <td>Order_ID</td>  \n",
    "              <td>Customer_ID</td>  \n",
    "              <td>Order_Date</td>\n",
    "              <td>Total</td>\n",
    "          </thead>  \n",
    "\n",
    "          {% for row in rows %}  \n",
    "\n",
    "              <tr>  \n",
    "                  <td>{{row[\"Order_ID\"]}}</td>  \n",
    "                  <td>{{row[\"Customer_ID\"]}}</td>  \n",
    "                  <td>{{row[\"Order_Date\"]}}</td>\n",
    "                  <td>{{row[\"Total\"]}}</td>  \n",
    "              </tr>  \n",
    "\n",
    "          {% endfor %}  \n",
    "      </table> \n",
    "        \n",
    "      <table border=5>  \n",
    "          <thead><b>Suborder table</b><br> \n",
    "              <td>Suborder_ID</td>  \n",
    "              <td>Order_ID</td>  \n",
    "              <td>Product_ID</td>  \n",
    "              <td>Quantity</td>\n",
    "              <td>Subtotal</td>\n",
    "          </thead>  \n",
    "\n",
    "          {% for subrow in subrows %}  \n",
    "\n",
    "              <tr> \n",
    "                  <td>{{subrow[\"Suborder_ID\"]}}</td> \n",
    "                  <td>{{subrow[\"Order_ID\"]}}</td>  \n",
    "                  <td>{{subrow[\"Product_ID\"]}}</td>  \n",
    "                  <td>{{subrow[\"Quantity\"]}}</td>\n",
    "                  <td>{{subrow[\"Subtotal\"]}}</td>  \n",
    "              </tr>  \n",
    "\n",
    "          {% endfor %}  \n",
    "      </table>\n",
    "        \n",
    "      <script>\n",
    "        n =  new Date();\n",
    "        y = n.getFullYear();\n",
    "        m = n.getMonth() + 1;\n",
    "        d = n.getDate();\n",
    "        h = n.getHours()\n",
    "        mi = n.getMinutes()\n",
    "        s = n.getSeconds()\n",
    "        console.log(d)\n",
    "        document.getElementById(\"date\").value = d + \"/\" + m + \"/\" + \"/\" + y + \" \" + h + \":\" + mi + \":\" + s;\n",
    "      </script>\n",
    "        \n",
    "        \n",
    "    </body>\n",
    "</html>"
   ]
  },
  {
   "cell_type": "markdown",
   "metadata": {},
   "source": [
    "You can see that it also has three forms with a table to show all the rows in the order table, but there's another table, which is the suborder table, this contains all the details about each order, speaking of this, you'll also notice something different, when updating an order, only the details are updated and not the actual order it self as the actual order references the details by using the order ID as a foreign key.\n",
    "\n",
    "It also automatically gets the current date/time to be used for the order date."
   ]
  },
  {
   "cell_type": "markdown",
   "metadata": {},
   "source": [
    "<h4>Adding an order</h4>\n",
    "\n",
    "The cell below shows how an order is added after the user is directed to the specified directory."
   ]
  },
  {
   "cell_type": "code",
   "execution_count": null,
   "metadata": {},
   "outputs": [],
   "source": [
    "#When in '/addOrder' directory\n",
    "@app.route(\"/addOrder\", methods = [\"POST\"])\n",
    "def saveO():\n",
    "    con = sqlite3.connect(\"data/database.db\") #Connect to database\n",
    "    con.row_factory = sqlite3.Row #Converts the plain tuple to a more useful object\n",
    "    cur = con.cursor()\n",
    "    cur.execute(\"PRAGMA foreign_keys = ON\") #Enable foreign keys\n",
    "    msg = \"msg\"\n",
    "    \n",
    "    if (request.method == \"POST\"): #If the user submits data\n",
    "        try:\n",
    "            cid = request.form[\"cid\"] #Get entered customer ID\n",
    "            odate = request.form[\"odate\"]  #Get entered order date\n",
    "\n",
    "            print(\"CID: \", cid)\n",
    "            print(\"ODATE: \", odate)\n",
    "            \n",
    "            cur.execute(\"INSERT into OrderTBLE (Customer_ID, Order_Date) values (?, ?)\", (cid, odate)) #Add the user's data\n",
    "    \n",
    "            con.commit()  \n",
    "            \n",
    "            msg = \"Order successfully added\"\n",
    "        except:\n",
    "            con.rollback()\n",
    "            msg = \"Please check the details again.\"\n",
    "        finally:\n",
    "            #Update the rows\n",
    "            cur.execute(\"select * from OrderTBLE\") #Select everything in the table\n",
    "            rows = cur.fetchall() #Get all the rows\n",
    "            cur.execute(\"select * from SuborderTB\") #Select everything in the table\n",
    "            subRows = cur.fetchall() #Get all the rows\n",
    "            \n",
    "            return render_template(\"order.html\",msg = msg, rows = rows, subrows = subRows)  #Go to order.html page with the message and the rows\n",
    "            con.close()"
   ]
  },
  {
   "cell_type": "markdown",
   "metadata": {},
   "source": [
    "This gets the automatically generated date as well as the user's given customer ID and uses the two to create a new row in the order table.\n",
    "\n",
    "At the end, it refreshes the two tables for the orders and the suborders and loads them into the same page, and the following cell shows the creation of a suborder."
   ]
  },
  {
   "cell_type": "code",
   "execution_count": null,
   "metadata": {},
   "outputs": [],
   "source": [
    "#When in '/addSuborder' directory\n",
    "@app.route(\"/addSuborder\", methods = [\"POST\"])\n",
    "def saveS():\n",
    "    con = sqlite3.connect(\"data/database.db\") #Connect to database\n",
    "    con.row_factory = sqlite3.Row #Converts the plain tuple to a more useful object\n",
    "    cur = con.cursor()\n",
    "    cur.execute(\"PRAGMA foreign_keys = ON\") #Enable foreign keys\n",
    "    msg = \"msg\"\n",
    "    \n",
    "    if (request.method == \"POST\"): #If the user submits data\n",
    "        try:\n",
    "            oid = request.form[\"oid\"] #Get entered order ID\n",
    "            pid = request.form[\"pid\"] #Get entered product ID\n",
    "            oquantity = int(request.form[\"oquantity\"]) #Get entered order quantity\n",
    "    \n",
    "            cur.execute(\"select * from ProductTB where Product_ID = ?\", (pid,)) #Select all the values in the table with the rows with the id\n",
    "            priceRows = cur.fetchall() #Get all rows (Will only return 1)\n",
    "            priceRow = priceRows[0] #Get first row\n",
    "\n",
    "            osubtotal = priceRow[\"Price\"] * oquantity #Calculate the subtotal\n",
    "\n",
    "            cur.execute(\"INSERT into SuborderTB (Order_ID, Product_ID, Quantity, Subtotal) values (?, ?, ?, ?)\", (oid, pid, oquantity, osubtotal))\n",
    "            cur.execute(\"UPDATE OrderTBLE SET TOTAL=(SELECT SUM(Subtotal) FROM SuborderTB WHERE SuborderTB.Order_ID=OrderTBLE.Order_ID)\") #Calculate the total\n",
    "            \n",
    "            con.commit()  \n",
    "            \n",
    "            msg = \"Suborder successfully added\"\n",
    "        except:\n",
    "            con.rollback()\n",
    "            msg = \"Please check the details again.\"\n",
    "        finally:\n",
    "            #Update the rows\n",
    "            cur.execute(\"select * from OrderTBLE\") #Select everything in the table\n",
    "            rows = cur.fetchall() #Get all the rows\n",
    "            cur.execute(\"select * from SuborderTB\") #Select everything in the table\n",
    "            subRows = cur.fetchall() #Get all the rows\n",
    "            \n",
    "            return render_template(\"order.html\",msg = msg, rows = rows, subrows = subRows)  #Go to order.html page with the message and the rows\n",
    "            con.close()"
   ]
  },
  {
   "cell_type": "markdown",
   "metadata": {},
   "source": [
    "You can see that the user's given product id is then used to select the row of the product to calculate the subtotal of the suborder using the quantity and the price of the product, which is then summed later together to form the grand total for the order.\n",
    "\n",
    "The way the grand total for each order is calculated is by summing up all the subtotals using the corresponding order ID in the order and the suborder table."
   ]
  },
  {
   "cell_type": "markdown",
   "metadata": {},
   "source": [
    "<h4>Updating an order</h4>\n",
    "\n",
    "Now that we can add orders, we will also add a feature to update their orders, this will be done differently also in a different route, and we will be using two tables at once."
   ]
  },
  {
   "cell_type": "code",
   "execution_count": null,
   "metadata": {},
   "outputs": [],
   "source": [
    "#When in '/updateSuborder' directory\n",
    "@app.route(\"/updateSuborder\", methods = [\"POST\"])  \n",
    "def updateS():  \n",
    "    con = sqlite3.connect(\"data/database.db\") #Connect to database\n",
    "    con.row_factory = sqlite3.Row #Converts the plain tuple to a more useful object\n",
    "    cur = con.cursor()  \n",
    "    cur.execute(\"PRAGMA foreign_keys = ON\") #Enable foreign keys\n",
    "    sid = request.form[\"sid\"]  #Get entered suborder ID\n",
    "    pid = request.form[\"pid2\"] #Get entered product ID\n",
    "    \n",
    "    newRows = [0, 0, 0, 0] #Default row values\n",
    "    currRow = [0, 0, 0, 0] #Default row values\n",
    "    msg = \"msg\"\n",
    "    \n",
    "    if (request.form['submit'] == \"Get details\"): #If \"Get details\" button is pressed\n",
    "        try:  \n",
    "            cur.execute(\"select * from SuborderTB where Suborder_ID = ?\", (sid,)) #Select all the values in the table with the rows with the id\n",
    "            rows = cur.fetchall() #Get all rows (Will only return 1)\n",
    "            currRow = rows[0] #Get first row\n",
    "        \n",
    "            msg = \"\"\n",
    "        except:\n",
    "            con.rollback()\n",
    "            msg = \"Please check the details again.\" \n",
    "        finally:  \n",
    "            #Update the rows\n",
    "            cur.execute(\"select * from OrderTBLE\") #Select everything in the table\n",
    "            rows = cur.fetchall() #Get all the rows\n",
    "            cur.execute(\"select * from SuborderTB\") #Select everything in the table\n",
    "            subRows = cur.fetchall() #Get all the rows\n",
    "            \n",
    "            #Pass all the column values\n",
    "            return render_template(\"order.html\", sid = sid, pid2 = currRow[\"Product_ID\"], oquantity2 = currRow[\"Quantity\"], osubtotal = currRow[\"Subtotal\"], rows = rows, subrows = subRows)       \n",
    "            con.close()\n",
    "    else: #If \"Update\" button is pressed\n",
    "        try:         \n",
    "            oquantity = int(request.form[\"oquantity2\"]) #Get entered order quantity\n",
    "    \n",
    "            cur.execute(\"select * from ProductTB where Product_ID = ?\", (pid,)) #Select all the values in the table with the rows with the id\n",
    "            priceRows = cur.fetchall() #Get all rows (Will only return 1)\n",
    "            priceRow = priceRows[0] #Get first row\n",
    "\n",
    "            osubtotal = priceRow[\"Price\"] * oquantity #Calculate the subtotal\n",
    "            \n",
    "            cur.execute(\"update SuborderTB set Product_ID=?, Quantity=?, Subtotal=? where Suborder_ID=? \", (pid, oquantity, osubtotal, sid)) #Update the values in the tables\n",
    "            cur.execute(\"UPDATE OrderTBLE SET TOTAL=(SELECT SUM(Subtotal) FROM SuborderTB WHERE SuborderTB.Order_ID=OrderTBLE.Order_ID)\") #Calculate the total\n",
    "            con.commit() \n",
    "            msg = \"Suborder successfully updated\"\n",
    "        except:\n",
    "            con.rollback()\n",
    "            msg = \"Please check the details again.\" \n",
    "        finally:\n",
    "            #Update the rows\n",
    "            cur.execute(\"select * from OrderTBLE\") #Select everything in the table\n",
    "            rows = cur.fetchall() #Get all the rows\n",
    "            cur.execute(\"select * from SuborderTB\") #Select everything in the table\n",
    "            subRows = cur.fetchall() #Get all the rows\n",
    "            \n",
    "            return render_template(\"order.html\", rows = rows, subrows = subRows, msg = msg)  #Go to order.html with the rows\n",
    "            con.close()"
   ]
  },
  {
   "cell_type": "markdown",
   "metadata": {},
   "source": [
    "There's a lot going on with updating an order, however, what you need to know is that there's two paths; one for getting the details and the other for updating, either way it'd go back to the \"order.html\" page where it displays the order and the suborder table with their rows refreshed. \n",
    "\n",
    "Getting details simply uses the suborder ID to get all the details about that order from the suborder table as it contains all the data and so the row contnaining the suborder ID is retrieved for it.\n",
    "\n",
    "For updating, the price of the product is retrieved from the product table using its ID and then multiplied by the quantity the user enters. This subtotal is not modifiable by the user as it is automatically calculated for the orders, however it still displays it when getting the details or updating."
   ]
  },
  {
   "cell_type": "markdown",
   "metadata": {},
   "source": [
    "<h4>Deleting an order</h4>\n",
    "\n",
    "We may wanna delete an order that we have made, and so the third form will go to another route as shown below, finish this cell so that you can delete from both the order and the suborder table using just the order ID.\n",
    "\n",
    "<b>You must complete this step before moving to the next</b>"
   ]
  },
  {
   "cell_type": "code",
   "execution_count": null,
   "metadata": {},
   "outputs": [],
   "source": [
    "#When in '/deleteOrder' directory\n",
    "@app.route(\"/deleteOrder\", methods = [\"POST\"])   \n",
    "def deleteO():\n",
    "    con = sqlite3.connect(\"data/database.db\") #Connect to database\n",
    "    con.row_factory = sqlite3.Row #Converts the plain tuple to a more useful object\n",
    "    cur = con.cursor() \n",
    "    msg = \"msg\"\n",
    "    oid = request.form[\"oid2\"] #Get entered order ID\n",
    "    try:   \n",
    "\n",
    "        con.commit() \n",
    "        msg = \"Order successfully deleted\"  \n",
    "    except:  \n",
    "        con.rollback() \n",
    "        msg = \"Order can't be deleted\"\n",
    "    finally:   \n",
    "        #Update the rows\n",
    "        cur.execute(\"select * from OrderTBLE\") #Select everything in the table\n",
    "        rows = cur.fetchall() #Get all the rows\n",
    "        cur.execute(\"select * from SuborderTB\") #Select everything in the table\n",
    "        subRows = cur.fetchall() #Get all the rows\n",
    "\n",
    "        return render_template(\"order.html\",msg = msg, rows = rows, subrows = subRows) #Go to order.html page with the message and the rows\n",
    "        con.close()"
   ]
  },
  {
   "cell_type": "markdown",
   "metadata": {},
   "source": [
    "<b>Double click for the solution</b>\n",
    "\n",
    "<!--\n",
    "#When in '/deleteOrder' directory\n",
    "@app.route(\"/deleteOrder\", methods = [\"POST\"])   \n",
    "def deleteO():\n",
    "    con = sqlite3.connect(\"data/database.db\") #Connect to database\n",
    "    con.row_factory = sqlite3.Row #Converts the plain tuple to a more useful object\n",
    "    cur = con.cursor() \n",
    "    #cur.execute(\"PRAGMA foreign_keys = ON\") #Enable foreign keys\n",
    "    msg = \"msg\"\n",
    "    oid = request.form[\"oid2\"] #Get entered order ID\n",
    "    try:   \n",
    "        cur.execute(\"delete from OrderTBLE where Order_ID = ?\", (oid,)) #Delete the rows containing the id  \n",
    "        cur.execute(\"delete from SuborderTB where Order_ID = ?\", (oid,)) #Delete the rows containing the id  \n",
    "        con.commit() \n",
    "        msg = \"Order successfully deleted\"  \n",
    "    except:  \n",
    "        con.rollback() \n",
    "        msg = \"Order can't be deleted\"\n",
    "    finally:   \n",
    "        #Update the rows\n",
    "        cur.execute(\"select * from OrderTBLE\") #Select everything in the table\n",
    "        rows = cur.fetchall() #Get all the rows\n",
    "        cur.execute(\"select * from SuborderTB\") #Select everything in the table\n",
    "        subRows = cur.fetchall() #Get all the rows\n",
    "\n",
    "        return render_template(\"order.html\",msg = msg, rows = rows, subrows = subRows) #Go to order.html page with the message and the rows\n",
    "        con.close()\n",
    "-->"
   ]
  },
  {
   "cell_type": "markdown",
   "metadata": {},
   "source": [
    "This simply retrieves the order row using the entered order ID and deletes it, however this time, it uses both the order and the suborder table, which means that even if there's more than one suborders for one order, it'll all be deleted, and then both tables will be refreshed as it goes back into the same page."
   ]
  },
  {
   "cell_type": "markdown",
   "metadata": {},
   "source": [
    "<h3>Running the Flask database and testing it</h3>\n",
    "\n",
    "Once you feel like you've done everything correctly, you can run it on a local server to see it for yourself, check the cell below."
   ]
  },
  {
   "cell_type": "code",
   "execution_count": null,
   "metadata": {},
   "outputs": [],
   "source": [
    "if (__name__ == '__main__'):\n",
    "    create_table() #Create the table\n",
    "    app.run()"
   ]
  },
  {
   "cell_type": "markdown",
   "metadata": {},
   "source": [
    "If everything is correct, you should have the correct pages on the correct routes and you should be able to create products and customers and use them to create orders on the web application."
   ]
  },
  {
   "cell_type": "markdown",
   "metadata": {},
   "source": [
    "<h3>The end</h3>\n",
    "\n",
    "This concludes notebook 8, and by now you should have more experience in using the Flask library as well as handling HTTP requests for sending and retrieving data, and also some SQL knowledge for database control, and so you should now also be able to apply these procedures when building similar web applications or databases."
   ]
  }
 ],
 "metadata": {
  "kernelspec": {
   "display_name": "Python 3",
   "language": "python",
   "name": "python3"
  },
  "language_info": {
   "codemirror_mode": {
    "name": "ipython",
    "version": 3
   },
   "file_extension": ".py",
   "mimetype": "text/x-python",
   "name": "python",
   "nbconvert_exporter": "python",
   "pygments_lexer": "ipython3",
   "version": "3.7.3"
  }
 },
 "nbformat": 4,
 "nbformat_minor": 4
}
